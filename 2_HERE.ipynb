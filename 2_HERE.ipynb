{
 "cells": [
  {
   "cell_type": "markdown",
   "id": "0cf4f9d7-c6b3-4d25-b09c-cca50a18eb1f",
   "metadata": {},
   "source": [
    "### The Approximate Number System Test\n",
    "\n",
    "This program runs the Approximate Number System Test, uploading your results to an online spreadsheet. The data collected and information recorded may be used for data analysis.\n",
    "\n",
    "To run the test, select **Kernel** > **Restart Kernel and Run All Cells** from the menu to run the test."
   ]
  },
  {
   "cell_type": "code",
   "execution_count": null,
   "id": "83266ea6-4d79-4283-8ed4-7a6185b83216",
   "metadata": {},
   "outputs": [
    {
     "data": {
      "text/html": [
       "<img style='width: 500px;' src=Picture0.png></img>"
      ],
      "text/plain": [
       "<IPython.core.display.HTML object>"
      ]
     },
     "metadata": {},
     "output_type": "display_data"
    },
    {
     "name": "stdout",
     "output_type": "stream",
     "text": [
      "Which side had the most circles?\n",
      "You have 3 seconds!\n"
     ]
    },
    {
     "data": {
      "application/vnd.jupyter.widget-view+json": {
       "model_id": "aa66e8170de04560aec1855e03572ea3",
       "version_major": 2,
       "version_minor": 0
      },
      "text/plain": [
       "HBox(children=(Button(description='BLUE', style=ButtonStyle()), Button(description='YELLOW', style=ButtonStyle…"
      ]
     },
     "metadata": {},
     "output_type": "display_data"
    }
   ],
   "source": [
    "from ANScode import *\n",
    "run_quiz()"
   ]
  },
  {
   "cell_type": "code",
   "execution_count": null,
   "id": "2346117f-7a0a-449d-8661-b0b1fc4a6995",
   "metadata": {},
   "outputs": [],
   "source": []
  }
 ],
 "metadata": {
  "kernelspec": {
   "display_name": "Python 3 (ipykernel)",
   "language": "python",
   "name": "python3"
  },
  "language_info": {
   "codemirror_mode": {
    "name": "ipython",
    "version": 3
   },
   "file_extension": ".py",
   "mimetype": "text/x-python",
   "name": "python",
   "nbconvert_exporter": "python",
   "pygments_lexer": "ipython3",
   "version": "3.10.10"
  }
 },
 "nbformat": 4,
 "nbformat_minor": 5
}

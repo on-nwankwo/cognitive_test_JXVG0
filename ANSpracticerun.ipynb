{
 "cells": [
  {
   "cell_type": "markdown",
   "id": "0cf4f9d7-c6b3-4d25-b09c-cca50a18eb1f",
   "metadata": {},
   "source": [
    "### The Approximate Number System Test\n",
    "\n",
    "This program runs the Approximate Number System Test, uploading your results to an online spreadsheet. The data collected and information recorded may be used for data analysis.\n",
    "\n",
    "To run the test, select **Kernel** > **Restart Kernel and Run All Cells** from the menu to run the test."
   ]
  },
  {
   "cell_type": "code",
   "execution_count": 1,
   "id": "83266ea6-4d79-4283-8ed4-7a6185b83216",
   "metadata": {},
   "outputs": [
    {
     "data": {
      "text/html": [
       "<img style='width: 500px;' src=Picture0.png></img>"
      ],
      "text/plain": [
       "<IPython.core.display.HTML object>"
      ]
     },
     "metadata": {},
     "output_type": "display_data"
    },
    {
     "ename": "KeyboardInterrupt",
     "evalue": "",
     "output_type": "error",
     "traceback": [
      "\u001b[0;31m---------------------------------------------------------------------------\u001b[0m",
      "\u001b[0;31mKeyboardInterrupt\u001b[0m                         Traceback (most recent call last)",
      "Cell \u001b[0;32mIn[1], line 1\u001b[0m\n\u001b[0;32m----> 1\u001b[0m \u001b[38;5;28;01mfrom\u001b[39;00m \u001b[38;5;21;01mANScode\u001b[39;00m \u001b[38;5;28;01mimport\u001b[39;00m \u001b[38;5;241m*\u001b[39m\n\u001b[1;32m      2\u001b[0m run_quiz()\n",
      "File \u001b[0;32m~/0 - A1/ANScode.py:455\u001b[0m\n\u001b[1;32m    451\u001b[0m     \u001b[38;5;28;01mreturn\u001b[39;00m total\n\u001b[1;32m    453\u001b[0m \u001b[38;5;66;03m# ----------------------------------------------------------------------------\u001b[39;00m\n\u001b[0;32m--> 455\u001b[0m \u001b[43mrun_quiz\u001b[49m\u001b[43m(\u001b[49m\u001b[43m)\u001b[49m\n",
      "File \u001b[0;32m~/0 - A1/ANScode.py:425\u001b[0m, in \u001b[0;36mrun_quiz\u001b[0;34m()\u001b[0m\n\u001b[1;32m    422\u001b[0m     file \u001b[38;5;241m=\u001b[39m key\n\u001b[1;32m    423\u001b[0m     right_answer \u001b[38;5;241m=\u001b[39m image_data[key]\n\u001b[0;32m--> 425\u001b[0m     score \u001b[38;5;241m=\u001b[39m \u001b[43mans_single_test\u001b[49m\u001b[43m(\u001b[49m\u001b[43mfile\u001b[49m\u001b[43m,\u001b[49m\u001b[43m \u001b[49m\u001b[43mright_answer\u001b[49m\u001b[43m)\u001b[49m\n\u001b[1;32m    426\u001b[0m     total \u001b[38;5;241m+\u001b[39m\u001b[38;5;241m=\u001b[39m score\n\u001b[1;32m    428\u001b[0m results_df \u001b[38;5;241m=\u001b[39m pd\u001b[38;5;241m.\u001b[39mDataFrame(results_dict)\n",
      "File \u001b[0;32m~/0 - A1/ANScode.py:177\u001b[0m, in \u001b[0;36mans_single_test\u001b[0;34m(img_file, right_answer)\u001b[0m\n\u001b[1;32m    159\u001b[0m \u001b[38;5;250m\u001b[39m\u001b[38;5;124;03m'''\u001b[39;00m\n\u001b[1;32m    160\u001b[0m \u001b[38;5;124;03mRuns a single ANS test.\u001b[39;00m\n\u001b[1;32m    161\u001b[0m \u001b[38;5;124;03m\u001b[39;00m\n\u001b[0;32m   (...)\u001b[0m\n\u001b[1;32m    173\u001b[0m \u001b[38;5;124;03m    float: the score for one question (1 if correct, 0 if incorrect)\u001b[39;00m\n\u001b[1;32m    174\u001b[0m \u001b[38;5;124;03m'''\u001b[39;00m\n\u001b[1;32m    176\u001b[0m display_img(\u001b[38;5;124m\"\u001b[39m\u001b[38;5;124mPicture0.png\u001b[39m\u001b[38;5;124m\"\u001b[39m)\n\u001b[0;32m--> 177\u001b[0m \u001b[43mtime\u001b[49m\u001b[38;5;241;43m.\u001b[39;49m\u001b[43msleep\u001b[49m\u001b[43m(\u001b[49m\u001b[38;5;241;43m0.75\u001b[39;49m\u001b[43m)\u001b[49m\n\u001b[1;32m    178\u001b[0m clear_output(wait\u001b[38;5;241m=\u001b[39m\u001b[38;5;28;01mTrue\u001b[39;00m)\n\u001b[1;32m    180\u001b[0m display_img(img_file)\n",
      "\u001b[0;31mKeyboardInterrupt\u001b[0m: "
     ]
    }
   ],
   "source": [
    "from 1ANScode import *\n",
    "run_quiz()"
   ]
  },
  {
   "cell_type": "code",
   "execution_count": null,
   "id": "2346117f-7a0a-449d-8661-b0b1fc4a6995",
   "metadata": {},
   "outputs": [],
   "source": []
  }
 ],
 "metadata": {
  "kernelspec": {
   "display_name": "Python 3 (ipykernel)",
   "language": "python",
   "name": "python3"
  },
  "language_info": {
   "codemirror_mode": {
    "name": "ipython",
    "version": 3
   },
   "file_extension": ".py",
   "mimetype": "text/x-python",
   "name": "python",
   "nbconvert_exporter": "python",
   "pygments_lexer": "ipython3",
   "version": "3.10.10"
  }
 },
 "nbformat": 4,
 "nbformat_minor": 5
}
